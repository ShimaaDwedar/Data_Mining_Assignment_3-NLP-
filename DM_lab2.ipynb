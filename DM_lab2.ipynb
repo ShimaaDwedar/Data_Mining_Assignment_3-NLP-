{
 "cells": [
  {
   "cell_type": "markdown",
   "id": "c563755e",
   "metadata": {},
   "source": [
    "## 1) Importing Necesseties"
   ]
  },
  {
   "cell_type": "code",
   "execution_count": 1,
   "id": "04f904aa",
   "metadata": {},
   "outputs": [],
   "source": [
    "from sklearn.neighbors import KNeighborsClassifier\n",
    "from matplotlib import pyplot as plt\n",
    "import pandas as pd\n",
    "import numpy as np\n",
    "import zipfile\n",
    "import os\n",
    "import cv2"
   ]
  },
  {
   "cell_type": "markdown",
   "id": "37641244",
   "metadata": {},
   "source": [
    "## 2) Generate the Data Matrix and the Label vector\n",
    "* Convert every image into a vector of 10,304 values corresponding to the image size.\n",
    "* Stack the 400 vector into a single Data Matrix D and generate the label vector y.\n",
    "* The labels are integers from 1:40 corresponding to the subject ids.\n",
    "# ____________"
   ]
  },
  {
   "cell_type": "markdown",
   "id": "0f8e6885",
   "metadata": {},
   "source": [
    "**constructDataMatrix** function is used to generate the data matrix from the provided images. <br>\n",
    "It loops over the images and flattens it to its corresponding values.<br>\n",
    "It also construct the label vector by appending id for each person."
   ]
  },
  {
   "cell_type": "code",
   "execution_count": 2,
   "id": "cf4006db",
   "metadata": {},
   "outputs": [],
   "source": [
    "\n",
    "def constructDataMatrix(folder):\n",
    "    D = np.zeros((400, 10304))\n",
    "    Y = []\n",
    "    ids = 1\n",
    "    ind = 0\n",
    "\n",
    "    for folderName in range(40):\n",
    "    \n",
    "        name = \"s\"+ str(folderName + 1)\n",
    "        path = os.path.join(folder, name)\n",
    "        for imgName in range(10):\n",
    "            name_of_image = str(imgName+1)+\".pgm\" \n",
    "            img = cv2.imread(os.path.join(path, name_of_image), 0)\n",
    "            if img is not None:\n",
    "                Y.append(ids)\n",
    "                D[ind] = img.flatten()\n",
    "                ind += 1\n",
    "        ids += 1\n",
    " \n",
    "    return D,Y"
   ]
  },
  {
   "cell_type": "code",
   "execution_count": 3,
   "id": "a8c18717",
   "metadata": {},
   "outputs": [],
   "source": [
    "D,Y =constructDataMatrix('orl')\n"
   ]
  },
  {
   "cell_type": "code",
   "execution_count": 4,
   "id": "9a14abbf",
   "metadata": {},
   "outputs": [
    {
     "data": {
      "text/plain": [
       "array([[ 48.,  49.,  45., ...,  47.,  46.,  46.],\n",
       "       [ 60.,  60.,  62., ...,  32.,  34.,  34.],\n",
       "       [ 39.,  44.,  53., ...,  29.,  26.,  29.],\n",
       "       ...,\n",
       "       [125., 119., 124., ...,  36.,  39.,  40.],\n",
       "       [119., 120., 120., ...,  89.,  94.,  85.],\n",
       "       [125., 124., 124., ...,  36.,  35.,  34.]])"
      ]
     },
     "execution_count": 4,
     "metadata": {},
     "output_type": "execute_result"
    }
   ],
   "source": [
    "D"
   ]
  },
  {
   "cell_type": "markdown",
   "id": "1380e7a5",
   "metadata": {},
   "source": [
    "## 3) Split the Dataset into Training and Test sets\n",
    "* From the Data Matrix D400x10304 keep the odd rows for training and the even rows for testing. \n",
    "* This will give you 5 instances per person for training and 5 instances per person for testing.\n",
    "* Split the labels vector accordingly.\n",
    "# ____________"
   ]
  },
  {
   "cell_type": "markdown",
   "id": "fc715c88",
   "metadata": {},
   "source": [
    "**Split** function is used to split the data matrix and label vector between the training and test sets as it is required."
   ]
  },
  {
   "cell_type": "code",
   "execution_count": 5,
   "id": "28ca25df",
   "metadata": {},
   "outputs": [],
   "source": [
    "def Split(data_matrix):\n",
    "    training = data_matrix[::2]  # odd rows for training.\n",
    "    testing = data_matrix[1::2]  # even rows for testing.\n",
    "    return training, testing"
   ]
  },
  {
   "cell_type": "code",
   "execution_count": 6,
   "id": "b57ad43c",
   "metadata": {},
   "outputs": [],
   "source": [
    "training_set, testing_set = Split(D)\n",
    "training_label, testing_label = Split(Y)"
   ]
  },
  {
   "cell_type": "markdown",
   "id": "442b2dc4",
   "metadata": {},
   "source": [
    "## 4) Dimensionality Reduction using PCA and Classification using 1-NN\n",
    "\n",
    "* Use the pseudo code of PCA given in lecture to find the projection matrix U.\n",
    "# ____________\n"
   ]
  },
  {
   "cell_type": "markdown",
   "id": "f9e8ab49",
   "metadata": {},
   "source": [
    "## Helping functions"
   ]
  },
  {
   "cell_type": "markdown",
   "id": "9d84600e",
   "metadata": {},
   "source": [
    "### (1) **sort_eigen()** function\n",
    "Is used to:<br>\n",
    "1- Construct a dictionary that maps each eigen value to its corresponding eigen vector. <br>\n",
    "2- Sort the keys (eigen values) in a reverse order and return it."
   ]
  },
  {
   "cell_type": "code",
   "execution_count": 7,
   "id": "d5d99e51",
   "metadata": {},
   "outputs": [],
   "source": [
    "def sort_eigen(eigen_values, eigen_vectors):\n",
    "    eigen_dict = {}\n",
    "    for i in range(len(eigen_values)):\n",
    "        eigen_dict[eigen_values[i]] = eigen_vectors[:,i]\n",
    "    return sorted(eigen_dict.keys(), reverse = True), eigen_dict\n",
    "    "
   ]
  },
  {
   "cell_type": "markdown",
   "id": "a3a9f279",
   "metadata": {},
   "source": [
    "### (2) **fractions()** function\n",
    "This function is used to calculate the **r** which is the smalles number of eigen vectors that their eigen values match the constraint of choosing the dimensionality. (**f(r) >= alpha**).<br>\n",
    "It uses the mentioned dictionary and iterate over it using the values in the sorted eigen values returned from the above function."
   ]
  },
  {
   "cell_type": "code",
   "execution_count": 8,
   "id": "b9e907f4",
   "metadata": {},
   "outputs": [],
   "source": [
    "def fractions(sorted_Eigen, eigen_dict, total_variance_sum, alpha):\n",
    "    sum_ = 0;\n",
    "    r = 0\n",
    "    for key in sorted_Eigen:\n",
    "        sum_ += key\n",
    "        frac = sum_/total_variance_sum\n",
    "        r += 1\n",
    "        if frac >= alpha:\n",
    "            break\n",
    "    return r "
   ]
  },
  {
   "cell_type": "markdown",
   "id": "f7ee8ae6",
   "metadata": {},
   "source": [
    "### (3) get_projection_matrix() function\n",
    "This function is used to get the specific eigen vectors which have the largest r eigen values and stack them together to construct the **projection matrix**."
   ]
  },
  {
   "cell_type": "code",
   "execution_count": 9,
   "id": "5f1ab5a0",
   "metadata": {},
   "outputs": [],
   "source": [
    "def get_projection_matrix(r, sorted_Eigen, eigen_dict):\n",
    "    U=np.zeros((r, 10304))\n",
    "    \n",
    "    for i in range (r):\n",
    "        U[i] = eigen_dict[sorted_Eigen[i]]\n",
    "    \n",
    "    return U "
   ]
  },
  {
   "cell_type": "markdown",
   "id": "e50aabee",
   "metadata": {},
   "source": [
    "### (4) preper_PCA() function\n",
    "It implements the first 5 steps in the PCA algorithm:\n",
    " * calculate mean\n",
    " * centrize the data\n",
    " * compute covariance matrix\n",
    " * compute eigen values and eigen vectors <br>\n",
    "It also prepare the sorted dictionary to be used in calculating r and the projection matrix."
   ]
  },
  {
   "cell_type": "code",
   "execution_count": 10,
   "id": "38a06777",
   "metadata": {},
   "outputs": [],
   "source": [
    "def preper_PCA(matrix):\n",
    "    mean_matrix = np.mean(matrix, axis = 0)\n",
    "    print(\"mean_matrix\", mean_matrix)\n",
    "    Z_matrix = matrix - np.transpose(mean_matrix)\n",
    "    print(\"Z_matrix\", Z_matrix)\n",
    "    CovarianceMatrix =(1/len(matrix)) * np.dot(np.transpose(Z_matrix), Z_matrix)\n",
    "    print(\"CovarianceMatrix\",CovarianceMatrix)\n",
    "    \n",
    "    EigenValues, Eigenvectors = np.linalg.eig(CovarianceMatrix)\n",
    "    EigenValues = EigenValues.real\n",
    "    Eigenvectors = Eigenvectors.real\n",
    "    print(\"EigenValues\",EigenValues)\n",
    "    print(\"Eigenvectors\", Eigenvectors)\n",
    "    \n",
    "    sorted_Eigen, eigen_dict = sort_eigen(EigenValues, Eigenvectors)\n",
    "    #print(\"sorted_Eigen\", sorted_Eigen)\n",
    "    \n",
    "    TotalVariance = CovarianceMatrix.diagonal()\n",
    "    #print(\"Total Variance List :\", TotalVariance) #list of diagonal element from COV Matrix\n",
    "    TotalVarianceSum = TotalVariance.sum() \n",
    "    #print(\"Sum Of The Total Variance :\", TotalVarianceSum) # Sum of this list\n",
    "    \n",
    "    return sorted_Eigen, eigen_dict, TotalVarianceSum\n",
    "    "
   ]
  },
  {
   "cell_type": "code",
   "execution_count": 24,
   "id": "88f04088",
   "metadata": {},
   "outputs": [
    {
     "name": "stdout",
     "output_type": "stream",
     "text": [
      "mean_matrix [86.115 86.265 86.685 ... 76.5   77.395 77.085]\n",
      "Z_matrix [[-38.115 -37.265 -41.685 ... -29.5   -31.395 -31.085]\n",
      " [-47.115 -42.265 -33.685 ... -47.5   -51.395 -48.085]\n",
      " [-22.115 -10.265  -6.685 ... -41.5   -40.395 -38.085]\n",
      " ...\n",
      " [ 41.885  38.735  38.315 ...   8.5    12.605   6.915]\n",
      " [ 42.885  40.735  46.315 ...  16.5    15.605  15.915]\n",
      " [ 32.885  33.735  33.315 ...  12.5    16.605   7.915]]\n",
      "CovarianceMatrix [[1241.511775 1237.489525 1220.456225 ...  -69.8075    -99.755425\n",
      "   -43.884775]\n",
      " [1237.489525 1250.244775 1227.058475 ...  -81.5325   -110.499675\n",
      "   -55.222525]\n",
      " [1220.456225 1227.058475 1222.145775 ...  -79.0825   -114.060575\n",
      "   -67.653225]\n",
      " ...\n",
      " [ -69.8075    -81.5325    -79.0825   ... 1894.       1865.0575\n",
      "  1682.5425  ]\n",
      " [ -99.755425 -110.499675 -114.060575 ... 1865.0575   1970.238975\n",
      "  1809.101425]\n",
      " [ -43.884775  -55.222525  -67.653225 ... 1682.5425   1809.101425\n",
      "  1888.737775]]\n",
      "EigenValues [ 2.89336806e+06  2.01725036e+06  1.14824189e+06 ... -4.86572846e-14\n",
      "  7.15236824e-14 -1.33024315e-13]\n",
      "Eigenvectors [[ 2.81623260e-03 -1.36115565e-02 -2.05577118e-02 ... -1.31711181e-03\n",
      "   1.27134121e-03 -3.89430912e-04]\n",
      " [ 2.78538278e-03 -1.37237246e-02 -2.05184388e-02 ... -6.31475308e-05\n",
      "   9.18217546e-05 -3.74698298e-05]\n",
      " [ 2.55134713e-03 -1.37554242e-02 -2.03021295e-02 ...  1.06632548e-05\n",
      "  -1.91957644e-05  1.49125453e-05]\n",
      " ...\n",
      " [ 5.43460327e-03  1.15193602e-02 -1.55841311e-02 ...  4.51449040e-03\n",
      "   7.97458452e-03 -5.25624235e-03]\n",
      " [ 5.55782224e-03  1.18352602e-02 -1.48120497e-02 ...  1.65404893e-02\n",
      "  -1.54088408e-02  6.30599618e-03]\n",
      " [ 6.28803778e-03  1.08773831e-02 -1.52494977e-02 ... -7.32535677e-03\n",
      "   4.28050867e-03 -8.54695162e-03]]\n"
     ]
    }
   ],
   "source": [
    "sorted_Eigen, eigen_dict, TotalVarianceSum = preper_PCA(training_set)"
   ]
  },
  {
   "cell_type": "markdown",
   "id": "c6a72f8d",
   "metadata": {},
   "source": [
    "### (5) PCA()\n",
    "This function is used to calculate **r** and the projection matrix depending on the value of **alpha** passed to it."
   ]
  },
  {
   "cell_type": "code",
   "execution_count": 25,
   "id": "95c7027c",
   "metadata": {},
   "outputs": [],
   "source": [
    "def PCA (matrix, alpha):\n",
    "    \n",
    "    r = fractions(sorted_Eigen, eigen_dict, TotalVarianceSum, alpha)\n",
    "    U = get_projection_matrix(r, sorted_Eigen, eigen_dict)\n",
    "    \n",
    "    return U"
   ]
  },
  {
   "cell_type": "markdown",
   "id": "12e453c5",
   "metadata": {},
   "source": [
    "### 4.1) Using the 1_NN classifier\n",
    "\n",
    "* try the following values of alpha, {0.8,0.85,0.9,0.95}.\n",
    "* Project the training set and test sets separately using the same projection matrix.\n",
    "* Use a simple classifier (first Nearest Neighbor to determine the class labels).\n",
    "# ____________"
   ]
  },
  {
   "cell_type": "markdown",
   "id": "341192ea",
   "metadata": {},
   "source": [
    "## Helping functions"
   ]
  },
  {
   "cell_type": "markdown",
   "id": "6c6c16dd",
   "metadata": {},
   "source": [
    "### (1) KNN_Classifier()\n",
    "This function takes K, training and test sets as a parameters to apply on them the classification by fitting the training set first, then predict the labels of the test set. (fit and predict are built-in functions)<br>\n",
    "It returns the predicted label."
   ]
  },
  {
   "cell_type": "code",
   "execution_count": 26,
   "id": "fd02fb5a",
   "metadata": {},
   "outputs": [],
   "source": [
    "def KNN_Classifier(num_neighbors, reduced_training, reduced_testing):\n",
    "    knn = KNeighborsClassifier(n_neighbors=num_neighbors)\n",
    "    knn.fit(reduced_training, training_label)\n",
    "    predict_label = knn.predict(reduced_testing)\n",
    "    return predict_label\n"
   ]
  },
  {
   "cell_type": "markdown",
   "id": "b057f818",
   "metadata": {},
   "source": [
    "### (2) accuracy()\n",
    "This function calculates the accuracy of the predicted label by counting the number of the correct predictions and dividing it by the total number of the original labels."
   ]
  },
  {
   "cell_type": "code",
   "execution_count": 27,
   "id": "f35eae05",
   "metadata": {},
   "outputs": [],
   "source": [
    "def accuracy(predict_label):\n",
    "    match_num=np.sum(testing_label == predict_label)\n",
    "    fraction_of_accuracy = match_num / len(testing_label)\n",
    "    return fraction_of_accuracy"
   ]
  },
  {
   "cell_type": "markdown",
   "id": "e2ccd3ae",
   "metadata": {},
   "source": [
    "### (3) try_alpha()\n",
    "This function tries all the alpha values given in the pdf to calculate their corresponding reduced training and test sets. <br>\n",
    "Then it stacks the 4 reduced training sets together in one list, and do the same for the 4 reduced test sets in another list to be used later."
   ]
  },
  {
   "cell_type": "code",
   "execution_count": 28,
   "id": "1b5f1482",
   "metadata": {},
   "outputs": [],
   "source": [
    "alphas = [0.8, 0.85, 0.9, 0.95]\n",
    "reduced_training_list = []\n",
    "reduced_testing_list = []\n",
    "def try_alpha():\n",
    "    accuracy_list = []\n",
    "    predict_label_list = [] \n",
    "    for alpha in alphas:\n",
    "        ProjectionMatrix_train = PCA (training_set, alpha)\n",
    "        #ProjectionMatrix_test = PCA (testing_set, alpha)\n",
    "        reduced_training = np.dot(training_set, np.transpose(ProjectionMatrix_train))\n",
    "        reduced_testing = np.dot(testing_set, np.transpose(ProjectionMatrix_train))\n",
    "        \n",
    "        reduced_training_list.append(reduced_training)\n",
    "        reduced_testing_list.append(reduced_testing)\n",
    "     "
   ]
  },
  {
   "cell_type": "markdown",
   "id": "f3db9cb1",
   "metadata": {},
   "source": [
    "### (4)  KNN_prediction()\n",
    "This function is just used to call the mentioned KNN_Classifier and accuracy functions with a specific K to get the predicted label and calculate the accuracy of it. "
   ]
  },
  {
   "cell_type": "code",
   "execution_count": 29,
   "id": "5e8a1e1a",
   "metadata": {},
   "outputs": [],
   "source": [
    "def KNN_prediction(num_neighbors, reduced_training, reduced_testing):\n",
    "    predict_label = KNN_Classifier(num_neighbors, reduced_training, reduced_testing)\n",
    "    accuracy_percentage = accuracy(predict_label) * 100\n",
    "    return accuracy_percentage #, predict_label_list"
   ]
  },
  {
   "cell_type": "code",
   "execution_count": 30,
   "id": "8abbdb26",
   "metadata": {
    "scrolled": true
   },
   "outputs": [],
   "source": [
    "try_alpha()  #by this we store list of the value of reduced_training, reduced_testing for all alphas."
   ]
  },
  {
   "cell_type": "markdown",
   "id": "b8836caa",
   "metadata": {},
   "source": [
    "### 4.2) Compare Accuracy\n",
    "\n",
    "* Report Accuracy for every value of alpha separately.\n",
    "* Can you find a relation between alpha and the classification accuracy"
   ]
  },
  {
   "cell_type": "markdown",
   "id": "309a36b5",
   "metadata": {},
   "source": [
    "## Helping Functions"
   ]
  },
  {
   "cell_type": "markdown",
   "id": "0aa11057",
   "metadata": {},
   "source": [
    "### (1) report_accuracy()\n",
    "This function is used to plot the relation between the different values of alpha and the accuracy for a fixed K."
   ]
  },
  {
   "cell_type": "code",
   "execution_count": 31,
   "id": "52721d2f",
   "metadata": {},
   "outputs": [],
   "source": [
    "def report_accuracy(accuracy_list, num_neighbors):\n",
    "    fig = plt.scatter(alphas, accuracy_list, color = (0.5,0.1,0.5,0.6)) #plt.scatter(alphas, accuracy_list)\n",
    "    plt.title('Accuray of different alphas, where K is '+ str(num_neighbors))\n",
    "    plt.xlabel('Alpha values')\n",
    "    plt.ylabel('Accuray values')\n",
    "    plt.show()"
   ]
  },
  {
   "cell_type": "markdown",
   "id": "c9b3f28a",
   "metadata": {},
   "source": [
    "### (2) loop_on_reduced()\n",
    "This function is used to iterate over the reduced training and test lists to calculate the accuracy of each alpha, and then stack them on one accuracy list to be returned."
   ]
  },
  {
   "cell_type": "code",
   "execution_count": 32,
   "id": "4dc6da0d",
   "metadata": {},
   "outputs": [],
   "source": [
    "# for 1-NN classifier \n",
    "def loop_on_reduced(num_neighbors):\n",
    "    accuracy_list =[]\n",
    "    for i in range(4):\n",
    "        accuracy_list.append(KNN_prediction(num_neighbors, reduced_training_list[i], reduced_testing_list[i]))\n",
    "    print(accuracy_list)\n",
    "    report_accuracy(accuracy_list, num_neighbors)\n",
    "    return accuracy_list"
   ]
  },
  {
   "cell_type": "code",
   "execution_count": 33,
   "id": "eb866b30",
   "metadata": {},
   "outputs": [
    {
     "name": "stdout",
     "output_type": "stream",
     "text": [
      "[95.0, 95.0, 94.0, 94.0]\n"
     ]
    },
    {
     "data": {
      "image/png": "[encoded data removed]",
      "text/plain": [
       "<Figure size 432x288 with 1 Axes>"
      ]
     },
     "metadata": {
      "needs_background": "light"
     },
     "output_type": "display_data"
    }
   ],
   "source": [
    "list_accuracies = []\n",
    "list_accuracies.append(loop_on_reduced(1))\n",
    "# print(list_accuracies)"
   ]
  },
  {
   "cell_type": "markdown",
   "id": "4a332406",
   "metadata": {},
   "source": [
    "## 5) Hyper-parameter Tuning\n",
    "\n",
    "### 5.1) Set the number of neighbors in the K-NN classifier to 3,5,7. "
   ]
  },
  {
   "cell_type": "markdown",
   "id": "06c9f5d1",
   "metadata": {},
   "source": [
    "Applying the KNN_prediction function on different K values."
   ]
  },
  {
   "cell_type": "code",
   "execution_count": 34,
   "id": "5c47c30b",
   "metadata": {},
   "outputs": [
    {
     "name": "stdout",
     "output_type": "stream",
     "text": [
      "[89.5, 89.5, 89.0, 89.5]\n"
     ]
    },
    {
     "data": {
      "image/png": "[encoded data removed]",
      "text/plain": [
       "<Figure size 432x288 with 1 Axes>"
      ]
     },
     "metadata": {
      "needs_background": "light"
     },
     "output_type": "display_data"
    },
    {
     "name": "stdout",
     "output_type": "stream",
     "text": [
      "[85.0, 84.5, 83.5, 84.5]\n"
     ]
    },
    {
     "data": {
      "image/png": "[encoded data removed]",
      "text/plain": [
       "<Figure size 432x288 with 1 Axes>"
      ]
     },
     "metadata": {
      "needs_background": "light"
     },
     "output_type": "display_data"
    },
    {
     "name": "stdout",
     "output_type": "stream",
     "text": [
      "[80.5, 77.5, 77.0, 74.0]\n"
     ]
    },
    {
     "data": {
      "image/png": "[encoded data removed]",
      "text/plain": [
       "<Figure size 432x288 with 1 Axes>"
      ]
     },
     "metadata": {
      "needs_background": "light"
     },
     "output_type": "display_data"
    },
    {
     "name": "stdout",
     "output_type": "stream",
     "text": [
      "[[95.0, 95.0, 94.0, 94.0], [89.5, 89.5, 89.0, 89.5], [85.0, 84.5, 83.5, 84.5], [80.5, 77.5, 77.0, 74.0]]\n"
     ]
    }
   ],
   "source": [
    "k_list = [1,3,5,7]\n",
    "\n",
    "for k in k_list[1:] :\n",
    "    list_accuracies.append (loop_on_reduced(k))\n",
    "print(list_accuracies)"
   ]
  },
  {
   "cell_type": "markdown",
   "id": "a0e837a4",
   "metadata": {},
   "source": [
    "### 5.2) Break ties at your preferred strategy.\n",
    "Depending on what we understood, ties happens when the K is even, so to break ties with:\n",
    "* First Nearest Neighbor (1NN)\n",
    "* Randomly changing K until tie is broken"
   ]
  },
  {
   "cell_type": "markdown",
   "id": "5f8922e1",
   "metadata": {},
   "source": [
    "### 5.3) Plot (or tabulate) the performance measure (accuracy) against the K value.\n",
    "\n",
    "* As shown in the below plots if the K increasing the total accuracy decreasing."
   ]
  },
  {
   "cell_type": "code",
   "execution_count": 35,
   "id": "f3123241",
   "metadata": {},
   "outputs": [],
   "source": [
    "\n",
    "def report_accuracy_vs_K(alpha, new_column_accuracy):\n",
    "    \n",
    "    fig = plt.scatter(k_list,new_column_accuracy, color = (0.5,0.1,0.5,0.6)) #plt.scatter(alphas, accuracy_list)\n",
    "    plt.title('The performance measure against the K value, where alpha is '+ str(alpha))\n",
    "    plt.xlabel('K values')\n",
    "    plt.ylabel('Accuray values')\n",
    "    plt.show()"
   ]
  },
  {
   "cell_type": "code",
   "execution_count": 36,
   "id": "fa364f55",
   "metadata": {},
   "outputs": [
    {
     "data": {
      "image/png": "[encoded data removed]",
      "text/plain": [
       "<Figure size 432x288 with 1 Axes>"
      ]
     },
     "metadata": {
      "needs_background": "light"
     },
     "output_type": "display_data"
    },
    {
     "data": {
      "image/png": "[encoded data removed]",
      "text/plain": [
       "<Figure size 432x288 with 1 Axes>"
      ]
     },
     "metadata": {
      "needs_background": "light"
     },
     "output_type": "display_data"
    },
    {
     "data": {
      "image/png": "[encoded data removed]",
      "text/plain": [
       "<Figure size 432x288 with 1 Axes>"
      ]
     },
     "metadata": {
      "needs_background": "light"
     },
     "output_type": "display_data"
    },
    {
     "data": {
      "image/png": "[encoded data removed]",
      "text/plain": [
       "<Figure size 432x288 with 1 Axes>"
      ]
     },
     "metadata": {
      "needs_background": "light"
     },
     "output_type": "display_data"
    }
   ],
   "source": [
    "col_ind = 0\n",
    "for a in alphas:\n",
    "    new_column_accuracy = [item[col_ind] for item in list_accuracies]\n",
    "    report_accuracy_vs_K(a,new_column_accuracy)\n",
    "    col_ind+= 1"
   ]
  },
  {
   "cell_type": "code",
   "execution_count": null,
   "id": "15139a93",
   "metadata": {},
   "outputs": [],
   "source": []
  },
  {
   "cell_type": "code",
   "execution_count": null,
   "id": "f2dae9fc",
   "metadata": {},
   "outputs": [],
   "source": []
  }
 ],
 "metadata": {
  "kernelspec": {
   "display_name": "Python 3",
   "language": "python",
   "name": "python3"
  },
  "language_info": {
   "codemirror_mode": {
    "name": "ipython",
    "version": 3
   },
   "file_extension": ".py",
   "mimetype": "text/x-python",
   "name": "python",
   "nbconvert_exporter": "python",
   "pygments_lexer": "ipython3",
   "version": "3.8.8"
  }
 },
 "nbformat": 4,
 "nbformat_minor": 5
}
